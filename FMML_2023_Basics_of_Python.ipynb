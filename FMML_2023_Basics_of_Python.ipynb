{
  "nbformat": 4,
  "nbformat_minor": 0,
  "metadata": {
    "colab": {
      "provenance": [],
      "include_colab_link": true
    },
    "kernelspec": {
      "name": "python3",
      "display_name": "Python 3"
    },
    "language_info": {
      "name": "python"
    }
  },
  "cells": [
    {
      "cell_type": "markdown",
      "metadata": {
        "id": "view-in-github",
        "colab_type": "text"
      },
      "source": [
        "<a href=\"https://colab.research.google.com/github/Raheem006/FMML-LAB-22B21A4373/blob/main/FMML_2023_Basics_of_Python.ipynb\" target=\"_parent\"><img src=\"https://colab.research.google.com/assets/colab-badge.svg\" alt=\"Open In Colab\"/></a>"
      ]
    },
    {
      "cell_type": "markdown",
      "source": [
        "# Getting Started\n",
        "\n",
        "FMML Module 1, Lab 1 <br>\n",
        " Module Coordinator: Amit Pandey ( amit.pandey@research.iiit.ac.in ) <br>\n",
        " Release date: Aug 2022 <br>\n",
        "\n"
      ],
      "metadata": {
        "id": "TMVRKfbpTAeR"
      }
    },
    {
      "cell_type": "markdown",
      "source": [
        "### In this notebook we will be covering the very basics of Python and some basic libraries such as Numpy, Matplotlib and Nltk.\n",
        "#### It is suggested that you go through each line and try some examples."
      ],
      "metadata": {
        "id": "F-XjWYLBTI0f"
      }
    },
    {
      "cell_type": "markdown",
      "source": [
        "#### Section 1 - Python : Basic data types and indexing."
      ],
      "metadata": {
        "id": "wEyEnIhnTdhB"
      }
    },
    {
      "cell_type": "code",
      "source": [
        "## Strings\n",
        "'''\n",
        "A string is a collection of one or more characters put in a single quote,\n",
        " double-quote or triple quote. In python there is no character data type,\n",
        " a character is a string of length one. It is represented by str class.\n",
        "\n",
        "String can have special characters. String can be indexed\n",
        "\n",
        "'''\n",
        "\n",
        "\n",
        "name = 'First Lab'\n",
        "name_extended = name + 'Module 1'\n",
        "last_element_string = name[-1] # -1 in python is index of the last element.\n",
        "## indexing is important for preprocessing of the raw data."
      ],
      "metadata": {
        "id": "AzguFJmTQIqt"
      },
      "execution_count": 52,
      "outputs": []
    },
    {
      "cell_type": "code",
      "source": [
        "print(name ,\"\\n\", name_extended, \"\\n\", last_element_string)"
      ],
      "metadata": {
        "colab": {
          "base_uri": "https://localhost:8080/"
        },
        "id": "DPokcpuLQO6s",
        "outputId": "5241dfe9-ad74-44f8-86bd-414aef1e1b13"
      },
      "execution_count": null,
      "outputs": [
        {
          "output_type": "stream",
          "name": "stdout",
          "text": [
            "First Lab \n",
            " First LabModule 1 \n",
            " b\n"
          ]
        }
      ]
    },
    {
      "cell_type": "code",
      "source": [
        "## List\n",
        "\n",
        "'''\n",
        "Lists are ordered collection of data, and are very similar to arrays,\n",
        "It is very flexible as the items in a list do not need to be of the same type.\n",
        "'''\n",
        "\n",
        "name_list = ['First Lab', 3 , '1.1' , 'Lab 1'] ## notice elements are of different data type.\n",
        "name_list.extend(['Module 1']) ## adding elements to list (Read about append method as well).\n",
        "element_2 = name_list[1] ## Just like other languages, the index starts from 0.\n",
        "two_dimesional_list = [[1,2],[3,4]] ## practice with multi-dimensional lists and arrays\n",
        "## you would soon be required to handle 4 dimensional data :p :)\n",
        "name_list[2] = '1.111' ##list elements can be changed"
      ],
      "metadata": {
        "id": "g7WZtwkpE2tO"
      },
      "execution_count": null,
      "outputs": []
    },
    {
      "cell_type": "code",
      "source": [
        "print(name_list)\n",
        "print(element_2)\n",
        "print(two_dimesional_list)\n",
        "## list can have list, dictionary, string etc."
      ],
      "metadata": {
        "colab": {
          "base_uri": "https://localhost:8080/"
        },
        "id": "vblBrQflE9Cs",
        "outputId": "19b44b31-914f-4599-f40c-e0f320f437fc"
      },
      "execution_count": null,
      "outputs": [
        {
          "output_type": "stream",
          "name": "stdout",
          "text": [
            "['First Lab', 3, '1.111', 'Lab 1', 'Module 1']\n",
            "3\n",
            "[[1, 2], [3, 4]]\n"
          ]
        }
      ]
    },
    {
      "cell_type": "code",
      "source": [
        "## Tuples\n",
        "\n",
        "name_tuple = ('First Lab', 1, (2,3),[1,1,'list having string']) ## A tuple can have a tuple.\n",
        "\n",
        "print(name_tuple[2])\n",
        "print(\"first indexing the last element of the tuple, which is a list and \\n then last element of the list (a string) and then second last element of the string:\")\n",
        "print(name_tuple[-1][-1][-2])\n"
      ],
      "metadata": {
        "colab": {
          "base_uri": "https://localhost:8080/"
        },
        "id": "x5eOXNK5FtlF",
        "outputId": "285bbce1-d201-426f-ea69-a4c2bfeba7c1"
      },
      "execution_count": null,
      "outputs": [
        {
          "output_type": "stream",
          "name": "stdout",
          "text": [
            "(2, 3)\n",
            "first indexing the last element of the tuple, which is a list and \n",
            " then last element of the list (a string) and then second last element of the string:\n",
            "n\n"
          ]
        }
      ]
    },
    {
      "cell_type": "code",
      "source": [
        "## tuples are immutable, read the error !\n",
        " #usued when passing parameters etc. and dont want them to be changed\n",
        "\n",
        "name_tuple"
      ],
      "metadata": {
        "colab": {
          "base_uri": "https://localhost:8080/"
        },
        "id": "m92Oab8YRha1",
        "outputId": "8f2282c0-958f-4447-d38c-31d0d96b30cc"
      },
      "execution_count": 54,
      "outputs": [
        {
          "output_type": "execute_result",
          "data": {
            "text/plain": [
              "('First Lab', 1, (2, 3), [1, 1, 'list having string'])"
            ]
          },
          "metadata": {},
          "execution_count": 54
        }
      ]
    },
    {
      "cell_type": "code",
      "source": [
        "## Sets\n",
        "'''a Set is an unordered collection of data types that is iterable, mutable and has no duplicate elements.\n",
        "The order of elements in a set is undefined though it may consist of various elements.\n",
        "The major advantage of using a set, as opposed to a list,\n",
        " is that it has a highly optimized method for checking whether a specific element is contained in the set.\n",
        "'''\n",
        "set_unique = set([1,1,2,3,5,6,'Lab1'])\n",
        "print(set_unique) ##notice it is unordered\n",
        "last_el = set_unique.pop()\n",
        "set_unique.add((1,2))\n",
        "\n",
        "\n",
        "print(last_el)\n",
        "print(set_unique)\n",
        "\n",
        "\n",
        "\n",
        "\n"
      ],
      "metadata": {
        "id": "MfkMO0mlTcep",
        "colab": {
          "base_uri": "https://localhost:8080/"
        },
        "outputId": "1da66570-5fca-47f0-c4d9-7cb197809add"
      },
      "execution_count": 55,
      "outputs": [
        {
          "output_type": "stream",
          "name": "stdout",
          "text": [
            "{1, 2, 3, 'Lab1', 5, 6}\n",
            "1\n",
            "{2, 3, 'Lab1', 5, 6, (1, 2)}\n"
          ]
        }
      ]
    },
    {
      "cell_type": "code",
      "source": [
        "set_unique ##it is not indexable"
      ],
      "metadata": {
        "colab": {
          "base_uri": "https://localhost:8080/"
        },
        "id": "QgHlNSRPampd",
        "outputId": "e5b295a1-966b-4523-957d-3dab4bbe9605"
      },
      "execution_count": 57,
      "outputs": [
        {
          "output_type": "execute_result",
          "data": {
            "text/plain": [
              "{(1, 2), 2, 3, 5, 6, 'Lab1'}"
            ]
          },
          "metadata": {},
          "execution_count": 57
        }
      ]
    },
    {
      "cell_type": "code",
      "source": [
        "## Dictionary\n",
        "'''\n",
        "Dictionary in Python is an unordered collection of data values, used to store data values like a map,\n",
        " which, unlike other data types which hold only a single value as an element.\n",
        "'''\n",
        "\n",
        "dic = {'1': 'A','2':'B', 'C':3 } ##Observe how key and values can be anything\n",
        "dic['4'] ='New'\n",
        "print(dic)"
      ],
      "metadata": {
        "colab": {
          "base_uri": "https://localhost:8080/"
        },
        "id": "rxhE3hYtZxVb",
        "outputId": "3f21c392-6b7d-4d14-dd9d-9a614eed40be"
      },
      "execution_count": null,
      "outputs": [
        {
          "output_type": "stream",
          "name": "stdout",
          "text": [
            "{'1': 'A', '2': 'B', 'C': 3, '4': 'New'}\n"
          ]
        }
      ]
    },
    {
      "cell_type": "markdown",
      "source": [
        "#### Question 0:\n",
        "###### write down 3-5 methods applicable to each data type. (Hint: extend, reverse, etc."
      ],
      "metadata": {
        "id": "hizs_paeceA5"
      }
    },
    {
      "cell_type": "code",
      "source": [
        "# Numeric Data Types (int, float)\n",
        "num1 = 5\n",
        "num2 = 2.5\n",
        "\n",
        "# Addition\n",
        "result_addition = num1 + num2\n",
        "\n",
        "# Subtraction\n",
        "result_subtraction = num1 - num2\n",
        "\n",
        "# Multiplication\n",
        "result_multiplication = num1 * num2\n",
        "\n",
        "# Division\n",
        "result_division = num1 / num2\n",
        "\n",
        "# Modulus\n",
        "result_modulus = num1 % num2\n",
        "\n",
        "# String Data Type\n",
        "text = \"Hello, World!\"\n",
        "\n",
        "# Length/Size\n",
        "text_length = len(text)\n",
        "\n",
        "# Substring Extraction\n",
        "substring = text[7:]\n",
        "\n",
        "# Replace\n",
        "new_text = text.replace(\"World\", \"Python\")\n",
        "\n",
        "# Split\n",
        "words = text.split(\",\")\n",
        "\n",
        "# List Data Type\n",
        "my_list = [1, 2, 3, 4, 5]\n",
        "\n",
        "# Append\n",
        "my_list.append(6)\n",
        "\n",
        "# Insert\n",
        "my_list.insert(2, 7)\n",
        "\n",
        "# Remove\n",
        "my_list.remove(4)\n",
        "\n",
        "# Pop\n",
        "popped_element = my_list.pop(0)\n",
        "\n",
        "# Index\n",
        "index_of_3 = my_list.index(3)\n",
        "\n",
        "# Dictionary Data Type\n",
        "my_dict = {\"name\": \"Alice\", \"age\": 30, \"city\": \"New York\"}\n",
        "\n",
        "# Get\n",
        "name = my_dict.get(\"name\")\n",
        "\n",
        "# Set\n",
        "my_dict[\"occupation\"] = \"Engineer\"\n",
        "\n",
        "# Keys\n",
        "keys = my_dict.keys()\n",
        "\n",
        "# Values\n",
        "values = my_dict.values()\n",
        "\n",
        "# Remove\n",
        "del my_dict[\"age\"]\n",
        "\n",
        "# Boolean Data Type\n",
        "x = True\n",
        "y = False\n",
        "\n",
        "# Logical AND\n",
        "result_and = x and y\n",
        "\n",
        "# Logical OR\n",
        "result_or = x or y\n",
        "\n",
        "# Logical NOT\n",
        "result_not = not x\n",
        "\n",
        "# Comparison Operators\n",
        "is_equal = num1 == num2\n",
        "is_not_equal = num1 != num2\n",
        "is_greater_than = num1 > num2\n",
        "\n"
      ],
      "metadata": {
        "id": "4SzEYppD99Pg"
      },
      "execution_count": 68,
      "outputs": []
    },
    {
      "cell_type": "markdown",
      "source": [
        "## Section 2 - Functions\n",
        "### a group of related statements that performs a specific task."
      ],
      "metadata": {
        "id": "tub_Skp3X1cN"
      }
    },
    {
      "cell_type": "code",
      "source": [
        "def add_new(a:str, b): ## a and b are the arguments that are passed. to provide data type hint\n",
        "                              # def add_new(x: float, y: float) -> float:\n",
        "  sum = a + b\n",
        "  return sum\n",
        "\n",
        "ans = add_new(1,2) ## intentionally written str, and passed int, to show it doesn't matter. It is just hint\n",
        "print(ans)"
      ],
      "metadata": {
        "colab": {
          "base_uri": "https://localhost:8080/"
        },
        "id": "K-6Q5T8nX_YF",
        "outputId": "06cbd1d2-4766-4b81-95a3-9e41556d7be0"
      },
      "execution_count": null,
      "outputs": [
        {
          "output_type": "stream",
          "name": "stdout",
          "text": [
            "3\n"
          ]
        }
      ]
    },
    {
      "cell_type": "code",
      "source": [
        "asn = add_new"
      ],
      "metadata": {
        "id": "aVLU3Bpu0YJV"
      },
      "execution_count": 59,
      "outputs": []
    },
    {
      "cell_type": "code",
      "source": [
        "def check_even_list(num_list):\n",
        "\n",
        "    even_numbers = []\n",
        "\n",
        "    # Go through each number\n",
        "    for number in num_list:\n",
        "        # Once we get a \"hit\" on an even number, we append the even number\n",
        "        if number % 2 == 0:\n",
        "            even_numbers.append(number)\n",
        "        # Don't do anything if its not even\n",
        "        else:\n",
        "            pass\n",
        "    # Notice the indentation! This ensures we run through the entire for loop\n",
        "    return even_numbers"
      ],
      "metadata": {
        "id": "aRa47XCsZLsh"
      },
      "execution_count": null,
      "outputs": []
    },
    {
      "cell_type": "markdown",
      "source": [
        "#### Question 1 :\n",
        "\n",
        "##### Define a function, which takes in two strings A and B. Reverses the first string A, adds it to B, and returns the final string.\n",
        "\n",
        "\n",
        "#### Question 2 :\n",
        "##### Given a list having Names, work_hours, and gender, Write a function to print name of the female worker that worked the most hours. Also how much do should she be paid if the pay is $ 20 per hour.\n",
        "\n",
        "##### work_hours = [('Abby',100 , 'F'),('Billy',400, 'M'),('Cassie',800,'F'), ('Maggi',600,'F'),('Alex',500,'M'),('Raj',225,'M'),('Penny',920,'F'),('Ben',300,'M')]\n",
        "\n",
        "##### Answer : the female worker that worked the most hours is Penny and she should be paid 18400"
      ],
      "metadata": {
        "id": "heD0_u4D01jp"
      }
    },
    {
      "cell_type": "code",
      "source": [
        "def find_highest_paid_female_worker(work_hours):\n",
        "    max_hours = 0\n",
        "    highest_paid_female_worker = None\n",
        "\n",
        "    for name, hours, gender in work_hours:\n",
        "        if gender == 'F' and hours > max_hours:\n",
        "            max_hours = hours\n",
        "            highest_paid_female_worker = name\n",
        "\n",
        "    if highest_paid_female_worker is not None:\n",
        "        pay_per_hour = 20\n",
        "        total_payment = max_hours * pay_per_hour\n",
        "        return f\"The female worker that worked the most hours is {highest_paid_female_worker} and she should be paid ${total_payment}\"\n",
        "    else:\n",
        "        return \"No female workers found in the list.\"\n",
        "\n",
        "# Example usage:\n",
        "work_hours = [('Abby', 100, 'F'), ('Billy', 400, 'M'), ('Cassie', 800, 'F'), ('Maggi', 600, 'F'), ('Alex', 500, 'M'), ('Raj', 225, 'M'), ('Penny', 920, 'F'), ('Ben', 300, 'M')]\n",
        "result = find_highest_paid_female_worker(work_hours)\n",
        "print(result)\n"
      ],
      "metadata": {
        "id": "STRCu9Dq-i3K",
        "outputId": "6aba5892-63ed-4aa8-c327-92f0394b292d",
        "colab": {
          "base_uri": "https://localhost:8080/"
        }
      },
      "execution_count": 70,
      "outputs": [
        {
          "output_type": "stream",
          "name": "stdout",
          "text": [
            "The female worker that worked the most hours is Penny and she should be paid $18400\n"
          ]
        }
      ]
    },
    {
      "cell_type": "code",
      "source": [
        "def reverse_and_append(A, B):\n",
        "    reversed_A = A[::-1]  # Reverse string A\n",
        "    result = reversed_A + B  # Concatenate reversed_A and B\n",
        "    return result\n",
        "\n",
        "# Example usage:\n",
        "string_A = \"Hello\"\n",
        "string_B = \" World\"\n",
        "final_string = reverse_and_append(string_A, string_B)\n",
        "print(final_string)  # Output: \"olleH World\"\n"
      ],
      "metadata": {
        "id": "__P-wlJu-WEC",
        "outputId": "60576d86-224e-4e7c-b090-da072c22cc03",
        "colab": {
          "base_uri": "https://localhost:8080/"
        }
      },
      "execution_count": 69,
      "outputs": [
        {
          "output_type": "stream",
          "name": "stdout",
          "text": [
            "olleH World\n"
          ]
        }
      ]
    },
    {
      "cell_type": "markdown",
      "source": [
        "#### Section 3 - Libraries and Reading data."
      ],
      "metadata": {
        "id": "T9fGzOAKXhtt"
      }
    },
    {
      "cell_type": "markdown",
      "source": [
        "##### Numpy - One of the most used libraries - supports for large, multi-dimensional arrays and matrices, along with a large collection of high-level mathematical functions to operate on these arrays."
      ],
      "metadata": {
        "id": "TKVyOsBKYZXa"
      }
    },
    {
      "cell_type": "code",
      "source": [
        "import numpy as np"
      ],
      "metadata": {
        "id": "_ODaZ44RXkyg"
      },
      "execution_count": null,
      "outputs": []
    },
    {
      "cell_type": "code",
      "source": [
        "\n",
        "a = np.array([1,1,2,3,4,5,5,6,1]) ## np.array converts given list to array\n",
        "\n",
        "b = a>1 ## important comparison operation, where frequently used in manipulation and image processing.\n",
        "\n",
        "print(b)\n",
        "print(a[b]) ## [printing only those values in a which are greater than 1]\n"
      ],
      "metadata": {
        "colab": {
          "base_uri": "https://localhost:8080/"
        },
        "id": "29vs7Iicavlg",
        "outputId": "c6c6a4b3-e519-4ac9-cd7e-34e2467c7584"
      },
      "execution_count": 60,
      "outputs": [
        {
          "output_type": "stream",
          "name": "stdout",
          "text": [
            "[False False  True  True  True  True  True  True False]\n",
            "[2 3 4 5 5 6]\n"
          ]
        }
      ]
    },
    {
      "cell_type": "code",
      "source": [
        "a_range = np.arange(10,19).reshape(3,3) ## create a 3x3 array with values in range 10-19\n",
        "a_range\n"
      ],
      "metadata": {
        "colab": {
          "base_uri": "https://localhost:8080/"
        },
        "id": "MAGJJ1K_jCHN",
        "outputId": "93683af4-9f10-46d0-ba49-39f0944ad3df"
      },
      "execution_count": 61,
      "outputs": [
        {
          "output_type": "execute_result",
          "data": {
            "text/plain": [
              "array([[10, 11, 12],\n",
              "       [13, 14, 15],\n",
              "       [16, 17, 18]])"
            ]
          },
          "metadata": {},
          "execution_count": 61
        }
      ]
    },
    {
      "cell_type": "code",
      "source": [
        "## Indexing in arrays works same as that of list\n",
        "\n",
        "a_range[0] # printing all the columns of first row"
      ],
      "metadata": {
        "colab": {
          "base_uri": "https://localhost:8080/"
        },
        "id": "BpNpo-eDt9Fr",
        "outputId": "69574bc2-5229-4cf8-eafa-5ac70642f838"
      },
      "execution_count": null,
      "outputs": [
        {
          "output_type": "execute_result",
          "data": {
            "text/plain": [
              "array([10, 11, 12])"
            ]
          },
          "metadata": {},
          "execution_count": 10
        }
      ]
    },
    {
      "cell_type": "code",
      "source": [
        "a_range[:,2] #printing all the rows of second column"
      ],
      "metadata": {
        "colab": {
          "base_uri": "https://localhost:8080/"
        },
        "id": "HbDG7M3QuCDQ",
        "outputId": "09459c12-a940-4908-eceb-cb5499d71bfa"
      },
      "execution_count": null,
      "outputs": [
        {
          "output_type": "execute_result",
          "data": {
            "text/plain": [
              "array([12, 15, 18])"
            ]
          },
          "metadata": {},
          "execution_count": 58
        }
      ]
    },
    {
      "cell_type": "code",
      "source": [
        "iden = np.eye(3) #idnetity matrix of given size\n",
        "iden"
      ],
      "metadata": {
        "colab": {
          "base_uri": "https://localhost:8080/"
        },
        "id": "RQ7UV_-fjJw3",
        "outputId": "784d4b89-bdf1-4bbd-8584-ddef9c6ead92"
      },
      "execution_count": null,
      "outputs": [
        {
          "output_type": "execute_result",
          "data": {
            "text/plain": [
              "array([[1., 0., 0.],\n",
              "       [0., 1., 0.],\n",
              "       [0., 0., 1.]])"
            ]
          },
          "metadata": {},
          "execution_count": 12
        }
      ]
    },
    {
      "cell_type": "code",
      "source": [
        "## adding two matrices\n",
        "summed = a_range + iden\n",
        "summed\n"
      ],
      "metadata": {
        "colab": {
          "base_uri": "https://localhost:8080/"
        },
        "id": "hYJXXvnwjPfE",
        "outputId": "03114949-030e-43fa-8185-b49b1ab470e5"
      },
      "execution_count": 62,
      "outputs": [
        {
          "output_type": "execute_result",
          "data": {
            "text/plain": [
              "array([[11., 11., 12.],\n",
              "       [13., 15., 15.],\n",
              "       [16., 17., 19.]])"
            ]
          },
          "metadata": {},
          "execution_count": 62
        }
      ]
    },
    {
      "cell_type": "code",
      "source": [
        "### arrays support normal matrix multiplication that you are used to, point-wise multiplication\n",
        "### and dot product as well.\n",
        "\n",
        "mul = a_range@iden ## normal multiplication\n",
        "mul\n"
      ],
      "metadata": {
        "colab": {
          "base_uri": "https://localhost:8080/"
        },
        "id": "VoyeEptRjYRu",
        "outputId": "75cf4450-1521-44de-bf11-84ce336bac83"
      },
      "execution_count": 63,
      "outputs": [
        {
          "output_type": "execute_result",
          "data": {
            "text/plain": [
              "array([[10., 11., 12.],\n",
              "       [13., 14., 15.],\n",
              "       [16., 17., 18.]])"
            ]
          },
          "metadata": {},
          "execution_count": 63
        }
      ]
    },
    {
      "cell_type": "code",
      "source": [
        "## point wise multiplication\n",
        "p_mul = a_range * iden\n",
        "p_mul"
      ],
      "metadata": {
        "colab": {
          "base_uri": "https://localhost:8080/"
        },
        "id": "58S3a_YmtAe8",
        "outputId": "14ebfbe9-f186-4379-caa7-65e3f89c5977"
      },
      "execution_count": null,
      "outputs": [
        {
          "output_type": "execute_result",
          "data": {
            "text/plain": [
              "array([[10.,  0.,  0.],\n",
              "       [ 0., 14.,  0.],\n",
              "       [ 0.,  0., 18.]])"
            ]
          },
          "metadata": {},
          "execution_count": 18
        }
      ]
    },
    {
      "cell_type": "code",
      "source": [
        "## Transpose of a matrix.\n",
        "\n",
        "mtx_t = mul.T\n",
        "mtx_t\n"
      ],
      "metadata": {
        "colab": {
          "base_uri": "https://localhost:8080/"
        },
        "id": "HC5uJ03ftJHA",
        "outputId": "bcc0d316-3603-4eb4-97ba-a69e2b542410"
      },
      "execution_count": 64,
      "outputs": [
        {
          "output_type": "execute_result",
          "data": {
            "text/plain": [
              "array([[10., 13., 16.],\n",
              "       [11., 14., 17.],\n",
              "       [12., 15., 18.]])"
            ]
          },
          "metadata": {},
          "execution_count": 64
        }
      ]
    },
    {
      "cell_type": "code",
      "source": [
        "### Here we are changing the values of last row of the transposed matrix.\n",
        "### basically point wise multiplying the values of last row with 1,2 and 3\n",
        "\n",
        "mtx_t[2] = mtx_t[2]*[1,2,3] ## indexing, point wise multiplication and mutation of values\n",
        "mtx_t"
      ],
      "metadata": {
        "colab": {
          "base_uri": "https://localhost:8080/"
        },
        "id": "ROFhfs2lutat",
        "outputId": "5f0d0e66-2679-4250-c5ca-0c5fdcad7f31"
      },
      "execution_count": null,
      "outputs": [
        {
          "output_type": "execute_result",
          "data": {
            "text/plain": [
              "array([[10., 13., 16.],\n",
              "       [11., 14., 17.],\n",
              "       [12., 30., 54.]])"
            ]
          },
          "metadata": {},
          "execution_count": 20
        }
      ]
    },
    {
      "cell_type": "code",
      "source": [
        "## Just like the greater than 1 (a>1) example we saw earlier.\n",
        "## here we are checking if the elements are divisible by 2 (%), and if they are, then replace by 0.\n",
        "\n",
        "mtx_t[(mtx_t % 2 == 0)] = 0 ## convert even elements of the matrix to zero.\n",
        "mtx_t"
      ],
      "metadata": {
        "colab": {
          "base_uri": "https://localhost:8080/"
        },
        "id": "Mh80ju2xvAqL",
        "outputId": "0f134f2e-3ec8-4ca5-dc70-a3f992e4ce15"
      },
      "execution_count": null,
      "outputs": [
        {
          "output_type": "execute_result",
          "data": {
            "text/plain": [
              "array([[ 0., 13.,  0.],\n",
              "       [11.,  0., 17.],\n",
              "       [ 0.,  0.,  0.]])"
            ]
          },
          "metadata": {},
          "execution_count": 21
        }
      ]
    },
    {
      "cell_type": "markdown",
      "source": [
        "#### Question 3 :\n",
        "\n",
        "##### a)Create a 5x5 matrix of the following form,\n",
        "\n",
        "##### [[1,1]\n",
        "#####  [2,2]]\n",
        "\n",
        "#####  i.e. each row is increasing and has repetive elements.\n",
        "\n",
        "######  Hint : you can use hstack, vstack  etc.\n",
        "\n",
        "##### b) find dot product of the matrix with any matrix. (Figure out the size/ shape of the matrix)"
      ],
      "metadata": {
        "id": "uqWUH6Rv4OhT"
      }
    },
    {
      "cell_type": "code",
      "source": [
        "import numpy as np\n",
        "\n",
        "# Your 5x5 matrix\n",
        "matrix_A = np.array([[1, 1, 1, 1, 1],\n",
        "                     [2, 2, 2, 2, 2],\n",
        "                     [1, 1, 1, 1, 1],\n",
        "                     [2, 2, 2, 2, 2],\n",
        "                     [1, 1, 1, 1, 1]])\n",
        "\n",
        "# Another matrix B (example)\n",
        "matrix_B = np.array([[1, 2, 3, 4, 5],\n",
        "                     [5, 4, 3, 2, 1],\n",
        "                     [0, 1, 0, 1, 0],\n",
        "                     [1, 0, 1, 0, 1],\n",
        "                     [2, 3, 2, 3, 2]])\n",
        "\n",
        "# Calculate the dot product\n",
        "result = np.dot(matrix_A, matrix_B)\n",
        "\n",
        "# Alternatively, you can use the @ operator for matrix multiplication in Python 3.5 and above:\n",
        "# result = matrix_A @ matrix_B\n",
        "\n",
        "print(result)\n"
      ],
      "metadata": {
        "id": "qXvMmZK1_LNt",
        "outputId": "6203648e-e6df-4d8d-aacc-7e054b32958b",
        "colab": {
          "base_uri": "https://localhost:8080/"
        }
      },
      "execution_count": 73,
      "outputs": [
        {
          "output_type": "stream",
          "name": "stdout",
          "text": [
            "[[ 9 10  9 10  9]\n",
            " [18 20 18 20 18]\n",
            " [ 9 10  9 10  9]\n",
            " [18 20 18 20 18]\n",
            " [ 9 10  9 10  9]]\n"
          ]
        }
      ]
    },
    {
      "cell_type": "code",
      "source": [
        "import numpy as np\n",
        "\n",
        "# Define the rows\n",
        "row1 = [1, 1]\n",
        "row2 = [2, 2]\n",
        "\n",
        "# Create the 5x5 matrix by stacking rows\n",
        "matrix = np.vstack([row1, row2] * 2)  # Repeat row1 and row2 twice vertically\n",
        "\n",
        "# If you want to repeat the entire pattern 5 times horizontally:\n",
        "matrix = np.tile(matrix, (1, 5))\n",
        "\n",
        "# Print the resulting matrix\n",
        "print(matrix)\n",
        "\n"
      ],
      "metadata": {
        "id": "aPZvl7R1-1Qz",
        "outputId": "203a6856-b9aa-4d45-9c0e-766f75cbf888",
        "colab": {
          "base_uri": "https://localhost:8080/"
        }
      },
      "execution_count": 72,
      "outputs": [
        {
          "output_type": "stream",
          "name": "stdout",
          "text": [
            "[[1 1 1 1 1 1 1 1 1 1]\n",
            " [2 2 2 2 2 2 2 2 2 2]\n",
            " [1 1 1 1 1 1 1 1 1 1]\n",
            " [2 2 2 2 2 2 2 2 2 2]]\n"
          ]
        }
      ]
    },
    {
      "cell_type": "markdown",
      "source": [
        "#### Reading Files"
      ],
      "metadata": {
        "id": "GzNoCosKdVa2"
      }
    },
    {
      "cell_type": "code",
      "source": [
        "## loading from the google drive\n",
        "from google.colab import drive\n",
        "drive.mount('/content/gdrive')"
      ],
      "metadata": {
        "colab": {
          "base_uri": "https://localhost:8080/"
        },
        "id": "_wCHdrtQwDJe",
        "outputId": "b3fbb284-b8ff-43b7-ca34-49d9c4890f29"
      },
      "execution_count": null,
      "outputs": [
        {
          "output_type": "stream",
          "name": "stdout",
          "text": [
            "Mounted at /content/gdrive\n"
          ]
        }
      ]
    },
    {
      "cell_type": "code",
      "source": [
        "with open ('/content/sample_data/README.md', 'r') as f:\n",
        "  a = f.readlines()\n",
        "\n",
        "a ## here a is list of elements/strings each splitted at \\n, \\n is also part of the list element.\n"
      ],
      "metadata": {
        "colab": {
          "base_uri": "https://localhost:8080/"
        },
        "id": "c1rzXSJobLku",
        "outputId": "b9914bc4-70e5-4aab-c231-2ead6e82e0ff"
      },
      "execution_count": 65,
      "outputs": [
        {
          "output_type": "execute_result",
          "data": {
            "text/plain": [
              "['This directory includes a few sample datasets to get you started.\\n',\n",
              " '\\n',\n",
              " '*   `california_housing_data*.csv` is California housing data from the 1990 US\\n',\n",
              " '    Census; more information is available at:\\n',\n",
              " '    https://developers.google.com/machine-learning/crash-course/california-housing-data-description\\n',\n",
              " '\\n',\n",
              " '*   `mnist_*.csv` is a small sample of the\\n',\n",
              " '    [MNIST database](https://en.wikipedia.org/wiki/MNIST_database), which is\\n',\n",
              " '    described at: http://yann.lecun.com/exdb/mnist/\\n',\n",
              " '\\n',\n",
              " '*   `anscombe.json` contains a copy of\\n',\n",
              " \"    [Anscombe's quartet](https://en.wikipedia.org/wiki/Anscombe%27s_quartet); it\\n\",\n",
              " '    was originally described in\\n',\n",
              " '\\n',\n",
              " \"    Anscombe, F. J. (1973). 'Graphs in Statistical Analysis'. American\\n\",\n",
              " '    Statistician. 27 (1): 17-21. JSTOR 2682899.\\n',\n",
              " '\\n',\n",
              " '    and our copy was prepared by the\\n',\n",
              " '    [vega_datasets library](https://github.com/altair-viz/vega_datasets/blob/4f67bdaad10f45e3549984e17e1b3088c731503d/vega_datasets/_data/anscombe.json).\\n']"
            ]
          },
          "metadata": {},
          "execution_count": 65
        }
      ]
    },
    {
      "cell_type": "code",
      "source": [
        "import pandas as pd\n",
        "\n",
        "df = pd.read_csv('/content/sample_data/california_housing_test.csv','r')\n",
        "df.head(10) ## pass as argument number of top elements you wish to print. Head is used to have a quick glance and understand the data."
      ],
      "metadata": {
        "colab": {
          "base_uri": "https://localhost:8080/",
          "height": 363
        },
        "id": "CgXsQFpobVGk",
        "outputId": "f8026768-aada-4e5d-c660-e1cca88875c5"
      },
      "execution_count": null,
      "outputs": [
        {
          "output_type": "execute_result",
          "data": {
            "text/html": [
              "\n",
              "  <div id=\"df-f46c49e0-f0e8-410b-a0bd-02a9706eab43\">\n",
              "    <div class=\"colab-df-container\">\n",
              "      <div>\n",
              "<style scoped>\n",
              "    .dataframe tbody tr th:only-of-type {\n",
              "        vertical-align: middle;\n",
              "    }\n",
              "\n",
              "    .dataframe tbody tr th {\n",
              "        vertical-align: top;\n",
              "    }\n",
              "\n",
              "    .dataframe thead th {\n",
              "        text-align: right;\n",
              "    }\n",
              "</style>\n",
              "<table border=\"1\" class=\"dataframe\">\n",
              "  <thead>\n",
              "    <tr style=\"text-align: right;\">\n",
              "      <th></th>\n",
              "      <th>longitude,\"latitude\",\"housing_median_age\",\"total_</th>\n",
              "      <th>ooms\",\"total_bed</th>\n",
              "      <th>ooms\",\"population\",\"households\",\"median_income\",\"median_house_value\"</th>\n",
              "    </tr>\n",
              "  </thead>\n",
              "  <tbody>\n",
              "    <tr>\n",
              "      <th>0</th>\n",
              "      <td>-122.050000,37.370000,27.000000,3885.000000,66...</td>\n",
              "      <td>NaN</td>\n",
              "      <td>NaN</td>\n",
              "    </tr>\n",
              "    <tr>\n",
              "      <th>1</th>\n",
              "      <td>-118.300000,34.260000,43.000000,1510.000000,31...</td>\n",
              "      <td>NaN</td>\n",
              "      <td>NaN</td>\n",
              "    </tr>\n",
              "    <tr>\n",
              "      <th>2</th>\n",
              "      <td>-117.810000,33.780000,27.000000,3589.000000,50...</td>\n",
              "      <td>NaN</td>\n",
              "      <td>NaN</td>\n",
              "    </tr>\n",
              "    <tr>\n",
              "      <th>3</th>\n",
              "      <td>-118.360000,33.820000,28.000000,67.000000,15.0...</td>\n",
              "      <td>NaN</td>\n",
              "      <td>NaN</td>\n",
              "    </tr>\n",
              "    <tr>\n",
              "      <th>4</th>\n",
              "      <td>-119.670000,36.330000,19.000000,1241.000000,24...</td>\n",
              "      <td>NaN</td>\n",
              "      <td>NaN</td>\n",
              "    </tr>\n",
              "    <tr>\n",
              "      <th>5</th>\n",
              "      <td>-119.560000,36.510000,37.000000,1018.000000,21...</td>\n",
              "      <td>NaN</td>\n",
              "      <td>NaN</td>\n",
              "    </tr>\n",
              "    <tr>\n",
              "      <th>6</th>\n",
              "      <td>-121.430000,38.630000,43.000000,1009.000000,22...</td>\n",
              "      <td>NaN</td>\n",
              "      <td>NaN</td>\n",
              "    </tr>\n",
              "    <tr>\n",
              "      <th>7</th>\n",
              "      <td>-120.650000,35.480000,19.000000,2310.000000,47...</td>\n",
              "      <td>NaN</td>\n",
              "      <td>NaN</td>\n",
              "    </tr>\n",
              "    <tr>\n",
              "      <th>8</th>\n",
              "      <td>-122.840000,38.400000,15.000000,3080.000000,61...</td>\n",
              "      <td>NaN</td>\n",
              "      <td>NaN</td>\n",
              "    </tr>\n",
              "    <tr>\n",
              "      <th>9</th>\n",
              "      <td>-118.020000,34.080000,31.000000,2402.000000,63...</td>\n",
              "      <td>NaN</td>\n",
              "      <td>NaN</td>\n",
              "    </tr>\n",
              "  </tbody>\n",
              "</table>\n",
              "</div>\n",
              "      <button class=\"colab-df-convert\" onclick=\"convertToInteractive('df-f46c49e0-f0e8-410b-a0bd-02a9706eab43')\"\n",
              "              title=\"Convert this dataframe to an interactive table.\"\n",
              "              style=\"display:none;\">\n",
              "        \n",
              "  <svg xmlns=\"http://www.w3.org/2000/svg\" height=\"24px\"viewBox=\"0 0 24 24\"\n",
              "       width=\"24px\">\n",
              "    <path d=\"M0 0h24v24H0V0z\" fill=\"none\"/>\n",
              "    <path d=\"M18.56 5.44l.94 2.06.94-2.06 2.06-.94-2.06-.94-.94-2.06-.94 2.06-2.06.94zm-11 1L8.5 8.5l.94-2.06 2.06-.94-2.06-.94L8.5 2.5l-.94 2.06-2.06.94zm10 10l.94 2.06.94-2.06 2.06-.94-2.06-.94-.94-2.06-.94 2.06-2.06.94z\"/><path d=\"M17.41 7.96l-1.37-1.37c-.4-.4-.92-.59-1.43-.59-.52 0-1.04.2-1.43.59L10.3 9.45l-7.72 7.72c-.78.78-.78 2.05 0 2.83L4 21.41c.39.39.9.59 1.41.59.51 0 1.02-.2 1.41-.59l7.78-7.78 2.81-2.81c.8-.78.8-2.07 0-2.86zM5.41 20L4 18.59l7.72-7.72 1.47 1.35L5.41 20z\"/>\n",
              "  </svg>\n",
              "      </button>\n",
              "      \n",
              "  <style>\n",
              "    .colab-df-container {\n",
              "      display:flex;\n",
              "      flex-wrap:wrap;\n",
              "      gap: 12px;\n",
              "    }\n",
              "\n",
              "    .colab-df-convert {\n",
              "      background-color: #E8F0FE;\n",
              "      border: none;\n",
              "      border-radius: 50%;\n",
              "      cursor: pointer;\n",
              "      display: none;\n",
              "      fill: #1967D2;\n",
              "      height: 32px;\n",
              "      padding: 0 0 0 0;\n",
              "      width: 32px;\n",
              "    }\n",
              "\n",
              "    .colab-df-convert:hover {\n",
              "      background-color: #E2EBFA;\n",
              "      box-shadow: 0px 1px 2px rgba(60, 64, 67, 0.3), 0px 1px 3px 1px rgba(60, 64, 67, 0.15);\n",
              "      fill: #174EA6;\n",
              "    }\n",
              "\n",
              "    [theme=dark] .colab-df-convert {\n",
              "      background-color: #3B4455;\n",
              "      fill: #D2E3FC;\n",
              "    }\n",
              "\n",
              "    [theme=dark] .colab-df-convert:hover {\n",
              "      background-color: #434B5C;\n",
              "      box-shadow: 0px 1px 3px 1px rgba(0, 0, 0, 0.15);\n",
              "      filter: drop-shadow(0px 1px 2px rgba(0, 0, 0, 0.3));\n",
              "      fill: #FFFFFF;\n",
              "    }\n",
              "  </style>\n",
              "\n",
              "      <script>\n",
              "        const buttonEl =\n",
              "          document.querySelector('#df-f46c49e0-f0e8-410b-a0bd-02a9706eab43 button.colab-df-convert');\n",
              "        buttonEl.style.display =\n",
              "          google.colab.kernel.accessAllowed ? 'block' : 'none';\n",
              "\n",
              "        async function convertToInteractive(key) {\n",
              "          const element = document.querySelector('#df-f46c49e0-f0e8-410b-a0bd-02a9706eab43');\n",
              "          const dataTable =\n",
              "            await google.colab.kernel.invokeFunction('convertToInteractive',\n",
              "                                                     [key], {});\n",
              "          if (!dataTable) return;\n",
              "\n",
              "          const docLinkHtml = 'Like what you see? Visit the ' +\n",
              "            '<a target=\"_blank\" href=https://colab.research.google.com/notebooks/data_table.ipynb>data table notebook</a>'\n",
              "            + ' to learn more about interactive tables.';\n",
              "          element.innerHTML = '';\n",
              "          dataTable['output_type'] = 'display_data';\n",
              "          await google.colab.output.renderOutput(dataTable, element);\n",
              "          const docLink = document.createElement('div');\n",
              "          docLink.innerHTML = docLinkHtml;\n",
              "          element.appendChild(docLink);\n",
              "        }\n",
              "      </script>\n",
              "    </div>\n",
              "  </div>\n",
              "  "
            ],
            "text/plain": [
              "   longitude,\"latitude\",\"housing_median_age\",\"total_  ...  ooms\",\"population\",\"households\",\"median_income\",\"median_house_value\"\n",
              "0  -122.050000,37.370000,27.000000,3885.000000,66...  ...                                                NaN                   \n",
              "1  -118.300000,34.260000,43.000000,1510.000000,31...  ...                                                NaN                   \n",
              "2  -117.810000,33.780000,27.000000,3589.000000,50...  ...                                                NaN                   \n",
              "3  -118.360000,33.820000,28.000000,67.000000,15.0...  ...                                                NaN                   \n",
              "4  -119.670000,36.330000,19.000000,1241.000000,24...  ...                                                NaN                   \n",
              "5  -119.560000,36.510000,37.000000,1018.000000,21...  ...                                                NaN                   \n",
              "6  -121.430000,38.630000,43.000000,1009.000000,22...  ...                                                NaN                   \n",
              "7  -120.650000,35.480000,19.000000,2310.000000,47...  ...                                                NaN                   \n",
              "8  -122.840000,38.400000,15.000000,3080.000000,61...  ...                                                NaN                   \n",
              "9  -118.020000,34.080000,31.000000,2402.000000,63...  ...                                                NaN                   \n",
              "\n",
              "[10 rows x 3 columns]"
            ]
          },
          "metadata": {},
          "execution_count": 35
        }
      ]
    },
    {
      "cell_type": "code",
      "source": [
        "len(df.columns), df.columns"
      ],
      "metadata": {
        "colab": {
          "base_uri": "https://localhost:8080/"
        },
        "id": "iMMaPe3gduKb",
        "outputId": "f6dc3cb8-6c33-48f7-f15c-bb691b593821"
      },
      "execution_count": null,
      "outputs": [
        {
          "output_type": "execute_result",
          "data": {
            "text/plain": [
              "(3,\n",
              " Index(['longitude,\"latitude\",\"housing_median_age\",\"total_', 'ooms\",\"total_bed',\n",
              "        'ooms\",\"population\",\"households\",\"median_income\",\"median_house_value\"'],\n",
              "       dtype='object'))"
            ]
          },
          "metadata": {},
          "execution_count": 36
        }
      ]
    },
    {
      "cell_type": "code",
      "source": [
        "df.columns[0]"
      ],
      "metadata": {
        "colab": {
          "base_uri": "https://localhost:8080/",
          "height": 35
        },
        "id": "GT1dA9Q3eRQU",
        "outputId": "5514ad00-df53-44e0-beb5-99775e8174de"
      },
      "execution_count": null,
      "outputs": [
        {
          "output_type": "execute_result",
          "data": {
            "application/vnd.google.colaboratory.intrinsic+json": {
              "type": "string"
            },
            "text/plain": [
              "'longitude,\"latitude\",\"housing_median_age\",\"total_'"
            ]
          },
          "metadata": {},
          "execution_count": 37
        }
      ]
    },
    {
      "cell_type": "code",
      "source": [
        "df['longitude,\"latitude\",\"housing_median_age\",\"total_'][:5]"
      ],
      "metadata": {
        "colab": {
          "base_uri": "https://localhost:8080/"
        },
        "id": "oEZhq9rBe-Hb",
        "outputId": "ddfb73be-f5c4-44ca-8e34-117a4b47562c"
      },
      "execution_count": null,
      "outputs": [
        {
          "output_type": "execute_result",
          "data": {
            "text/plain": [
              "0    -122.050000,37.370000,27.000000,3885.000000,66...\n",
              "1    -118.300000,34.260000,43.000000,1510.000000,31...\n",
              "2    -117.810000,33.780000,27.000000,3589.000000,50...\n",
              "3    -118.360000,33.820000,28.000000,67.000000,15.0...\n",
              "4    -119.670000,36.330000,19.000000,1241.000000,24...\n",
              "Name: longitude,\"latitude\",\"housing_median_age\",\"total_, dtype: object"
            ]
          },
          "metadata": {},
          "execution_count": 38
        }
      ]
    },
    {
      "cell_type": "code",
      "source": [
        "df = df.rename(columns = {'longitude,\"latitude\",\"housing_median_age\",\"total_':'Detail1'}) ##rename column names as at times it makes it easier for us"
      ],
      "metadata": {
        "id": "-hpbslfWfwy3"
      },
      "execution_count": null,
      "outputs": []
    },
    {
      "cell_type": "code",
      "source": [
        "df.head(3)"
      ],
      "metadata": {
        "colab": {
          "base_uri": "https://localhost:8080/",
          "height": 143
        },
        "id": "C0gpXPf1hN5Q",
        "outputId": "47fbd865-7d9c-4d54-c9b1-6e3e9db64eb3"
      },
      "execution_count": null,
      "outputs": [
        {
          "output_type": "execute_result",
          "data": {
            "text/html": [
              "\n",
              "  <div id=\"df-8b4d6646-be74-40bb-b987-8f46c5498910\">\n",
              "    <div class=\"colab-df-container\">\n",
              "      <div>\n",
              "<style scoped>\n",
              "    .dataframe tbody tr th:only-of-type {\n",
              "        vertical-align: middle;\n",
              "    }\n",
              "\n",
              "    .dataframe tbody tr th {\n",
              "        vertical-align: top;\n",
              "    }\n",
              "\n",
              "    .dataframe thead th {\n",
              "        text-align: right;\n",
              "    }\n",
              "</style>\n",
              "<table border=\"1\" class=\"dataframe\">\n",
              "  <thead>\n",
              "    <tr style=\"text-align: right;\">\n",
              "      <th></th>\n",
              "      <th>Detail1</th>\n",
              "      <th>ooms\",\"total_bed</th>\n",
              "      <th>ooms\",\"population\",\"households\",\"median_income\",\"median_house_value\"</th>\n",
              "    </tr>\n",
              "  </thead>\n",
              "  <tbody>\n",
              "    <tr>\n",
              "      <th>0</th>\n",
              "      <td>-122.050000,37.370000,27.000000,3885.000000,66...</td>\n",
              "      <td>NaN</td>\n",
              "      <td>NaN</td>\n",
              "    </tr>\n",
              "    <tr>\n",
              "      <th>1</th>\n",
              "      <td>-118.300000,34.260000,43.000000,1510.000000,31...</td>\n",
              "      <td>NaN</td>\n",
              "      <td>NaN</td>\n",
              "    </tr>\n",
              "    <tr>\n",
              "      <th>2</th>\n",
              "      <td>-117.810000,33.780000,27.000000,3589.000000,50...</td>\n",
              "      <td>NaN</td>\n",
              "      <td>NaN</td>\n",
              "    </tr>\n",
              "  </tbody>\n",
              "</table>\n",
              "</div>\n",
              "      <button class=\"colab-df-convert\" onclick=\"convertToInteractive('df-8b4d6646-be74-40bb-b987-8f46c5498910')\"\n",
              "              title=\"Convert this dataframe to an interactive table.\"\n",
              "              style=\"display:none;\">\n",
              "        \n",
              "  <svg xmlns=\"http://www.w3.org/2000/svg\" height=\"24px\"viewBox=\"0 0 24 24\"\n",
              "       width=\"24px\">\n",
              "    <path d=\"M0 0h24v24H0V0z\" fill=\"none\"/>\n",
              "    <path d=\"M18.56 5.44l.94 2.06.94-2.06 2.06-.94-2.06-.94-.94-2.06-.94 2.06-2.06.94zm-11 1L8.5 8.5l.94-2.06 2.06-.94-2.06-.94L8.5 2.5l-.94 2.06-2.06.94zm10 10l.94 2.06.94-2.06 2.06-.94-2.06-.94-.94-2.06-.94 2.06-2.06.94z\"/><path d=\"M17.41 7.96l-1.37-1.37c-.4-.4-.92-.59-1.43-.59-.52 0-1.04.2-1.43.59L10.3 9.45l-7.72 7.72c-.78.78-.78 2.05 0 2.83L4 21.41c.39.39.9.59 1.41.59.51 0 1.02-.2 1.41-.59l7.78-7.78 2.81-2.81c.8-.78.8-2.07 0-2.86zM5.41 20L4 18.59l7.72-7.72 1.47 1.35L5.41 20z\"/>\n",
              "  </svg>\n",
              "      </button>\n",
              "      \n",
              "  <style>\n",
              "    .colab-df-container {\n",
              "      display:flex;\n",
              "      flex-wrap:wrap;\n",
              "      gap: 12px;\n",
              "    }\n",
              "\n",
              "    .colab-df-convert {\n",
              "      background-color: #E8F0FE;\n",
              "      border: none;\n",
              "      border-radius: 50%;\n",
              "      cursor: pointer;\n",
              "      display: none;\n",
              "      fill: #1967D2;\n",
              "      height: 32px;\n",
              "      padding: 0 0 0 0;\n",
              "      width: 32px;\n",
              "    }\n",
              "\n",
              "    .colab-df-convert:hover {\n",
              "      background-color: #E2EBFA;\n",
              "      box-shadow: 0px 1px 2px rgba(60, 64, 67, 0.3), 0px 1px 3px 1px rgba(60, 64, 67, 0.15);\n",
              "      fill: #174EA6;\n",
              "    }\n",
              "\n",
              "    [theme=dark] .colab-df-convert {\n",
              "      background-color: #3B4455;\n",
              "      fill: #D2E3FC;\n",
              "    }\n",
              "\n",
              "    [theme=dark] .colab-df-convert:hover {\n",
              "      background-color: #434B5C;\n",
              "      box-shadow: 0px 1px 3px 1px rgba(0, 0, 0, 0.15);\n",
              "      filter: drop-shadow(0px 1px 2px rgba(0, 0, 0, 0.3));\n",
              "      fill: #FFFFFF;\n",
              "    }\n",
              "  </style>\n",
              "\n",
              "      <script>\n",
              "        const buttonEl =\n",
              "          document.querySelector('#df-8b4d6646-be74-40bb-b987-8f46c5498910 button.colab-df-convert');\n",
              "        buttonEl.style.display =\n",
              "          google.colab.kernel.accessAllowed ? 'block' : 'none';\n",
              "\n",
              "        async function convertToInteractive(key) {\n",
              "          const element = document.querySelector('#df-8b4d6646-be74-40bb-b987-8f46c5498910');\n",
              "          const dataTable =\n",
              "            await google.colab.kernel.invokeFunction('convertToInteractive',\n",
              "                                                     [key], {});\n",
              "          if (!dataTable) return;\n",
              "\n",
              "          const docLinkHtml = 'Like what you see? Visit the ' +\n",
              "            '<a target=\"_blank\" href=https://colab.research.google.com/notebooks/data_table.ipynb>data table notebook</a>'\n",
              "            + ' to learn more about interactive tables.';\n",
              "          element.innerHTML = '';\n",
              "          dataTable['output_type'] = 'display_data';\n",
              "          await google.colab.output.renderOutput(dataTable, element);\n",
              "          const docLink = document.createElement('div');\n",
              "          docLink.innerHTML = docLinkHtml;\n",
              "          element.appendChild(docLink);\n",
              "        }\n",
              "      </script>\n",
              "    </div>\n",
              "  </div>\n",
              "  "
            ],
            "text/plain": [
              "                                             Detail1  ...  ooms\",\"population\",\"households\",\"median_income\",\"median_house_value\"\n",
              "0  -122.050000,37.370000,27.000000,3885.000000,66...  ...                                                NaN                   \n",
              "1  -118.300000,34.260000,43.000000,1510.000000,31...  ...                                                NaN                   \n",
              "2  -117.810000,33.780000,27.000000,3589.000000,50...  ...                                                NaN                   \n",
              "\n",
              "[3 rows x 3 columns]"
            ]
          },
          "metadata": {},
          "execution_count": 40
        }
      ]
    },
    {
      "cell_type": "code",
      "source": [
        "df.iloc[:5, 0]  ##iloc - index - 0 to 4 rows and first column only."
      ],
      "metadata": {
        "colab": {
          "base_uri": "https://localhost:8080/"
        },
        "id": "A0FFUn-ghP1n",
        "outputId": "161adc0a-69ae-4a53-e7b7-edf91a8c4f4e"
      },
      "execution_count": null,
      "outputs": [
        {
          "output_type": "execute_result",
          "data": {
            "text/plain": [
              "0    -122.050000,37.370000,27.000000,3885.000000,66...\n",
              "1    -118.300000,34.260000,43.000000,1510.000000,31...\n",
              "2    -117.810000,33.780000,27.000000,3589.000000,50...\n",
              "3    -118.360000,33.820000,28.000000,67.000000,15.0...\n",
              "4    -119.670000,36.330000,19.000000,1241.000000,24...\n",
              "Name: Detail1, dtype: object"
            ]
          },
          "metadata": {},
          "execution_count": 41
        }
      ]
    },
    {
      "cell_type": "code",
      "source": [
        "import matplotlib\n",
        "from matplotlib import pyplot as plt"
      ],
      "metadata": {
        "id": "oJ7JrZqWioIO"
      },
      "execution_count": null,
      "outputs": []
    },
    {
      "cell_type": "code",
      "source": [
        "xpoints = np.array([1, 8])\n",
        "ypoints = np.array([3, 10])\n",
        "\n",
        "plt.plot(xpoints, ypoints)\n",
        "plt.show()"
      ],
      "metadata": {
        "colab": {
          "base_uri": "https://localhost:8080/",
          "height": 265
        },
        "id": "tzunFbpUxKAP",
        "outputId": "8c0572dc-8832-4eda-ee70-e438d30b1d0b"
      },
      "execution_count": null,
      "outputs": [
        {
          "output_type": "display_data",
          "data": {
            "image/png": "[encoded data removed]",
            "text/plain": [
              "<Figure size 432x288 with 1 Axes>"
            ]
          },
          "metadata": {
            "needs_background": "light"
          }
        }
      ]
    },
    {
      "cell_type": "code",
      "source": [
        "xpoints = np.array([1, 2, 6, 8])\n",
        "ypoints = np.array([3, 8, 1, 10])\n",
        "\n",
        "plt.plot(xpoints, ypoints)\n",
        "plt.show()"
      ],
      "metadata": {
        "colab": {
          "base_uri": "https://localhost:8080/",
          "height": 265
        },
        "id": "p7l83i5SxW4k",
        "outputId": "db30f2a7-289c-4fbf-bd92-43e4c874ae73"
      },
      "execution_count": null,
      "outputs": [
        {
          "output_type": "display_data",
          "data": {
            "image/png": "[encoded data removed]",
            "text/plain": [
              "<Figure size 432x288 with 1 Axes>"
            ]
          },
          "metadata": {
            "needs_background": "light"
          }
        }
      ]
    },
    {
      "cell_type": "markdown",
      "source": [
        "## Creating a dataframe.\n",
        "#### Task: Study about other methods of creating dataframe (for example: using Pandas Series, Lists etc.)"
      ],
      "metadata": {
        "id": "GT6yXu7l1gtL"
      }
    },
    {
      "cell_type": "code",
      "source": [
        "import pandas as pd\n",
        "import numpy as np"
      ],
      "metadata": {
        "id": "1vR1hTJ51ckl"
      },
      "execution_count": null,
      "outputs": []
    },
    {
      "cell_type": "code",
      "source": [
        "values = np.arange(16).reshape(4,4)\n",
        "values"
      ],
      "metadata": {
        "colab": {
          "base_uri": "https://localhost:8080/"
        },
        "id": "o0W0z3Fr1gOb",
        "outputId": "9242f716-42cb-4f5d-a30b-54e263054122"
      },
      "execution_count": null,
      "outputs": [
        {
          "output_type": "execute_result",
          "data": {
            "text/plain": [
              "array([[ 0,  1,  2,  3],\n",
              "       [ 4,  5,  6,  7],\n",
              "       [ 8,  9, 10, 11],\n",
              "       [12, 13, 14, 15]])"
            ]
          },
          "metadata": {},
          "execution_count": 4
        }
      ]
    },
    {
      "cell_type": "code",
      "source": [
        "dataframe_from_array = pd.DataFrame(values, index = ['a','b','c','d'], columns=['w','x','y','z'] )\n",
        "dataframe_from_array"
      ],
      "metadata": {
        "colab": {
          "base_uri": "https://localhost:8080/",
          "height": 175
        },
        "id": "_p5vKhPN2Bey",
        "outputId": "d10b4d3c-56d8-47b0-de70-c2b6fa98ccde"
      },
      "execution_count": null,
      "outputs": [
        {
          "output_type": "execute_result",
          "data": {
            "text/plain": [
              "    w   x   y   z\n",
              "a   0   1   2   3\n",
              "b   4   5   6   7\n",
              "c   8   9  10  11\n",
              "d  12  13  14  15"
            ],
            "text/html": [
              "\n",
              "  <div id=\"df-4da01efc-0685-400f-adef-668db1c9704d\">\n",
              "    <div class=\"colab-df-container\">\n",
              "      <div>\n",
              "<style scoped>\n",
              "    .dataframe tbody tr th:only-of-type {\n",
              "        vertical-align: middle;\n",
              "    }\n",
              "\n",
              "    .dataframe tbody tr th {\n",
              "        vertical-align: top;\n",
              "    }\n",
              "\n",
              "    .dataframe thead th {\n",
              "        text-align: right;\n",
              "    }\n",
              "</style>\n",
              "<table border=\"1\" class=\"dataframe\">\n",
              "  <thead>\n",
              "    <tr style=\"text-align: right;\">\n",
              "      <th></th>\n",
              "      <th>w</th>\n",
              "      <th>x</th>\n",
              "      <th>y</th>\n",
              "      <th>z</th>\n",
              "    </tr>\n",
              "  </thead>\n",
              "  <tbody>\n",
              "    <tr>\n",
              "      <th>a</th>\n",
              "      <td>0</td>\n",
              "      <td>1</td>\n",
              "      <td>2</td>\n",
              "      <td>3</td>\n",
              "    </tr>\n",
              "    <tr>\n",
              "      <th>b</th>\n",
              "      <td>4</td>\n",
              "      <td>5</td>\n",
              "      <td>6</td>\n",
              "      <td>7</td>\n",
              "    </tr>\n",
              "    <tr>\n",
              "      <th>c</th>\n",
              "      <td>8</td>\n",
              "      <td>9</td>\n",
              "      <td>10</td>\n",
              "      <td>11</td>\n",
              "    </tr>\n",
              "    <tr>\n",
              "      <th>d</th>\n",
              "      <td>12</td>\n",
              "      <td>13</td>\n",
              "      <td>14</td>\n",
              "      <td>15</td>\n",
              "    </tr>\n",
              "  </tbody>\n",
              "</table>\n",
              "</div>\n",
              "      <button class=\"colab-df-convert\" onclick=\"convertToInteractive('df-4da01efc-0685-400f-adef-668db1c9704d')\"\n",
              "              title=\"Convert this dataframe to an interactive table.\"\n",
              "              style=\"display:none;\">\n",
              "        \n",
              "  <svg xmlns=\"http://www.w3.org/2000/svg\" height=\"24px\"viewBox=\"0 0 24 24\"\n",
              "       width=\"24px\">\n",
              "    <path d=\"M0 0h24v24H0V0z\" fill=\"none\"/>\n",
              "    <path d=\"M18.56 5.44l.94 2.06.94-2.06 2.06-.94-2.06-.94-.94-2.06-.94 2.06-2.06.94zm-11 1L8.5 8.5l.94-2.06 2.06-.94-2.06-.94L8.5 2.5l-.94 2.06-2.06.94zm10 10l.94 2.06.94-2.06 2.06-.94-2.06-.94-.94-2.06-.94 2.06-2.06.94z\"/><path d=\"M17.41 7.96l-1.37-1.37c-.4-.4-.92-.59-1.43-.59-.52 0-1.04.2-1.43.59L10.3 9.45l-7.72 7.72c-.78.78-.78 2.05 0 2.83L4 21.41c.39.39.9.59 1.41.59.51 0 1.02-.2 1.41-.59l7.78-7.78 2.81-2.81c.8-.78.8-2.07 0-2.86zM5.41 20L4 18.59l7.72-7.72 1.47 1.35L5.41 20z\"/>\n",
              "  </svg>\n",
              "      </button>\n",
              "      \n",
              "  <style>\n",
              "    .colab-df-container {\n",
              "      display:flex;\n",
              "      flex-wrap:wrap;\n",
              "      gap: 12px;\n",
              "    }\n",
              "\n",
              "    .colab-df-convert {\n",
              "      background-color: #E8F0FE;\n",
              "      border: none;\n",
              "      border-radius: 50%;\n",
              "      cursor: pointer;\n",
              "      display: none;\n",
              "      fill: #1967D2;\n",
              "      height: 32px;\n",
              "      padding: 0 0 0 0;\n",
              "      width: 32px;\n",
              "    }\n",
              "\n",
              "    .colab-df-convert:hover {\n",
              "      background-color: #E2EBFA;\n",
              "      box-shadow: 0px 1px 2px rgba(60, 64, 67, 0.3), 0px 1px 3px 1px rgba(60, 64, 67, 0.15);\n",
              "      fill: #174EA6;\n",
              "    }\n",
              "\n",
              "    [theme=dark] .colab-df-convert {\n",
              "      background-color: #3B4455;\n",
              "      fill: #D2E3FC;\n",
              "    }\n",
              "\n",
              "    [theme=dark] .colab-df-convert:hover {\n",
              "      background-color: #434B5C;\n",
              "      box-shadow: 0px 1px 3px 1px rgba(0, 0, 0, 0.15);\n",
              "      filter: drop-shadow(0px 1px 2px rgba(0, 0, 0, 0.3));\n",
              "      fill: #FFFFFF;\n",
              "    }\n",
              "  </style>\n",
              "\n",
              "      <script>\n",
              "        const buttonEl =\n",
              "          document.querySelector('#df-4da01efc-0685-400f-adef-668db1c9704d button.colab-df-convert');\n",
              "        buttonEl.style.display =\n",
              "          google.colab.kernel.accessAllowed ? 'block' : 'none';\n",
              "\n",
              "        async function convertToInteractive(key) {\n",
              "          const element = document.querySelector('#df-4da01efc-0685-400f-adef-668db1c9704d');\n",
              "          const dataTable =\n",
              "            await google.colab.kernel.invokeFunction('convertToInteractive',\n",
              "                                                     [key], {});\n",
              "          if (!dataTable) return;\n",
              "\n",
              "          const docLinkHtml = 'Like what you see? Visit the ' +\n",
              "            '<a target=\"_blank\" href=https://colab.research.google.com/notebooks/data_table.ipynb>data table notebook</a>'\n",
              "            + ' to learn more about interactive tables.';\n",
              "          element.innerHTML = '';\n",
              "          dataTable['output_type'] = 'display_data';\n",
              "          await google.colab.output.renderOutput(dataTable, element);\n",
              "          const docLink = document.createElement('div');\n",
              "          docLink.innerHTML = docLinkHtml;\n",
              "          element.appendChild(docLink);\n",
              "        }\n",
              "      </script>\n",
              "    </div>\n",
              "  </div>\n",
              "  "
            ]
          },
          "metadata": {},
          "execution_count": 5
        }
      ]
    },
    {
      "cell_type": "code",
      "source": [
        "dataframe_from_array.loc[['a','b'],['w','x']]"
      ],
      "metadata": {
        "colab": {
          "base_uri": "https://localhost:8080/",
          "height": 112
        },
        "id": "jdIORDyX2h-Z",
        "outputId": "0e33c053-b6f5-43c3-d917-b35217f81665"
      },
      "execution_count": null,
      "outputs": [
        {
          "output_type": "execute_result",
          "data": {
            "text/plain": [
              "   w  x\n",
              "a  0  1\n",
              "b  4  5"
            ],
            "text/html": [
              "\n",
              "  <div id=\"df-24b0981e-bf93-4ce2-8a6c-ad572d09e477\">\n",
              "    <div class=\"colab-df-container\">\n",
              "      <div>\n",
              "<style scoped>\n",
              "    .dataframe tbody tr th:only-of-type {\n",
              "        vertical-align: middle;\n",
              "    }\n",
              "\n",
              "    .dataframe tbody tr th {\n",
              "        vertical-align: top;\n",
              "    }\n",
              "\n",
              "    .dataframe thead th {\n",
              "        text-align: right;\n",
              "    }\n",
              "</style>\n",
              "<table border=\"1\" class=\"dataframe\">\n",
              "  <thead>\n",
              "    <tr style=\"text-align: right;\">\n",
              "      <th></th>\n",
              "      <th>w</th>\n",
              "      <th>x</th>\n",
              "    </tr>\n",
              "  </thead>\n",
              "  <tbody>\n",
              "    <tr>\n",
              "      <th>a</th>\n",
              "      <td>0</td>\n",
              "      <td>1</td>\n",
              "    </tr>\n",
              "    <tr>\n",
              "      <th>b</th>\n",
              "      <td>4</td>\n",
              "      <td>5</td>\n",
              "    </tr>\n",
              "  </tbody>\n",
              "</table>\n",
              "</div>\n",
              "      <button class=\"colab-df-convert\" onclick=\"convertToInteractive('df-24b0981e-bf93-4ce2-8a6c-ad572d09e477')\"\n",
              "              title=\"Convert this dataframe to an interactive table.\"\n",
              "              style=\"display:none;\">\n",
              "        \n",
              "  <svg xmlns=\"http://www.w3.org/2000/svg\" height=\"24px\"viewBox=\"0 0 24 24\"\n",
              "       width=\"24px\">\n",
              "    <path d=\"M0 0h24v24H0V0z\" fill=\"none\"/>\n",
              "    <path d=\"M18.56 5.44l.94 2.06.94-2.06 2.06-.94-2.06-.94-.94-2.06-.94 2.06-2.06.94zm-11 1L8.5 8.5l.94-2.06 2.06-.94-2.06-.94L8.5 2.5l-.94 2.06-2.06.94zm10 10l.94 2.06.94-2.06 2.06-.94-2.06-.94-.94-2.06-.94 2.06-2.06.94z\"/><path d=\"M17.41 7.96l-1.37-1.37c-.4-.4-.92-.59-1.43-.59-.52 0-1.04.2-1.43.59L10.3 9.45l-7.72 7.72c-.78.78-.78 2.05 0 2.83L4 21.41c.39.39.9.59 1.41.59.51 0 1.02-.2 1.41-.59l7.78-7.78 2.81-2.81c.8-.78.8-2.07 0-2.86zM5.41 20L4 18.59l7.72-7.72 1.47 1.35L5.41 20z\"/>\n",
              "  </svg>\n",
              "      </button>\n",
              "      \n",
              "  <style>\n",
              "    .colab-df-container {\n",
              "      display:flex;\n",
              "      flex-wrap:wrap;\n",
              "      gap: 12px;\n",
              "    }\n",
              "\n",
              "    .colab-df-convert {\n",
              "      background-color: #E8F0FE;\n",
              "      border: none;\n",
              "      border-radius: 50%;\n",
              "      cursor: pointer;\n",
              "      display: none;\n",
              "      fill: #1967D2;\n",
              "      height: 32px;\n",
              "      padding: 0 0 0 0;\n",
              "      width: 32px;\n",
              "    }\n",
              "\n",
              "    .colab-df-convert:hover {\n",
              "      background-color: #E2EBFA;\n",
              "      box-shadow: 0px 1px 2px rgba(60, 64, 67, 0.3), 0px 1px 3px 1px rgba(60, 64, 67, 0.15);\n",
              "      fill: #174EA6;\n",
              "    }\n",
              "\n",
              "    [theme=dark] .colab-df-convert {\n",
              "      background-color: #3B4455;\n",
              "      fill: #D2E3FC;\n",
              "    }\n",
              "\n",
              "    [theme=dark] .colab-df-convert:hover {\n",
              "      background-color: #434B5C;\n",
              "      box-shadow: 0px 1px 3px 1px rgba(0, 0, 0, 0.15);\n",
              "      filter: drop-shadow(0px 1px 2px rgba(0, 0, 0, 0.3));\n",
              "      fill: #FFFFFF;\n",
              "    }\n",
              "  </style>\n",
              "\n",
              "      <script>\n",
              "        const buttonEl =\n",
              "          document.querySelector('#df-24b0981e-bf93-4ce2-8a6c-ad572d09e477 button.colab-df-convert');\n",
              "        buttonEl.style.display =\n",
              "          google.colab.kernel.accessAllowed ? 'block' : 'none';\n",
              "\n",
              "        async function convertToInteractive(key) {\n",
              "          const element = document.querySelector('#df-24b0981e-bf93-4ce2-8a6c-ad572d09e477');\n",
              "          const dataTable =\n",
              "            await google.colab.kernel.invokeFunction('convertToInteractive',\n",
              "                                                     [key], {});\n",
              "          if (!dataTable) return;\n",
              "\n",
              "          const docLinkHtml = 'Like what you see? Visit the ' +\n",
              "            '<a target=\"_blank\" href=https://colab.research.google.com/notebooks/data_table.ipynb>data table notebook</a>'\n",
              "            + ' to learn more about interactive tables.';\n",
              "          element.innerHTML = '';\n",
              "          dataTable['output_type'] = 'display_data';\n",
              "          await google.colab.output.renderOutput(dataTable, element);\n",
              "          const docLink = document.createElement('div');\n",
              "          docLink.innerHTML = docLinkHtml;\n",
              "          element.appendChild(docLink);\n",
              "        }\n",
              "      </script>\n",
              "    </div>\n",
              "  </div>\n",
              "  "
            ]
          },
          "metadata": {},
          "execution_count": 6
        }
      ]
    },
    {
      "cell_type": "code",
      "source": [
        "dataframe_from_array.iloc['a'] ## it needs position as integer"
      ],
      "metadata": {
        "colab": {
          "base_uri": "https://localhost:8080/",
          "height": 311
        },
        "id": "iPTlROGv2r7M",
        "outputId": "32f6cfa4-ea28-41de-ecd7-9e2a2af7c564"
      },
      "execution_count": null,
      "outputs": [
        {
          "output_type": "error",
          "ename": "TypeError",
          "evalue": "ignored",
          "traceback": [
            "\u001b[0;31m---------------------------------------------------------------------------\u001b[0m",
            "\u001b[0;31mTypeError\u001b[0m                                 Traceback (most recent call last)",
            "\u001b[0;32m<ipython-input-7-a102e544f01b>\u001b[0m in \u001b[0;36m<module>\u001b[0;34m\u001b[0m\n\u001b[0;32m----> 1\u001b[0;31m \u001b[0mdataframe_from_array\u001b[0m\u001b[0;34m.\u001b[0m\u001b[0miloc\u001b[0m\u001b[0;34m[\u001b[0m\u001b[0;34m'a'\u001b[0m\u001b[0;34m]\u001b[0m\u001b[0;34m\u001b[0m\u001b[0;34m\u001b[0m\u001b[0m\n\u001b[0m",
            "\u001b[0;32m/usr/local/lib/python3.7/dist-packages/pandas/core/indexing.py\u001b[0m in \u001b[0;36m__getitem__\u001b[0;34m(self, key)\u001b[0m\n\u001b[1;32m    929\u001b[0m \u001b[0;34m\u001b[0m\u001b[0m\n\u001b[1;32m    930\u001b[0m             \u001b[0mmaybe_callable\u001b[0m \u001b[0;34m=\u001b[0m \u001b[0mcom\u001b[0m\u001b[0;34m.\u001b[0m\u001b[0mapply_if_callable\u001b[0m\u001b[0;34m(\u001b[0m\u001b[0mkey\u001b[0m\u001b[0;34m,\u001b[0m \u001b[0mself\u001b[0m\u001b[0;34m.\u001b[0m\u001b[0mobj\u001b[0m\u001b[0;34m)\u001b[0m\u001b[0;34m\u001b[0m\u001b[0;34m\u001b[0m\u001b[0m\n\u001b[0;32m--> 931\u001b[0;31m             \u001b[0;32mreturn\u001b[0m \u001b[0mself\u001b[0m\u001b[0;34m.\u001b[0m\u001b[0m_getitem_axis\u001b[0m\u001b[0;34m(\u001b[0m\u001b[0mmaybe_callable\u001b[0m\u001b[0;34m,\u001b[0m \u001b[0maxis\u001b[0m\u001b[0;34m=\u001b[0m\u001b[0maxis\u001b[0m\u001b[0;34m)\u001b[0m\u001b[0;34m\u001b[0m\u001b[0;34m\u001b[0m\u001b[0m\n\u001b[0m\u001b[1;32m    932\u001b[0m \u001b[0;34m\u001b[0m\u001b[0m\n\u001b[1;32m    933\u001b[0m     \u001b[0;32mdef\u001b[0m \u001b[0m_is_scalar_access\u001b[0m\u001b[0;34m(\u001b[0m\u001b[0mself\u001b[0m\u001b[0;34m,\u001b[0m \u001b[0mkey\u001b[0m\u001b[0;34m:\u001b[0m \u001b[0mtuple\u001b[0m\u001b[0;34m)\u001b[0m\u001b[0;34m:\u001b[0m\u001b[0;34m\u001b[0m\u001b[0;34m\u001b[0m\u001b[0m\n",
            "\u001b[0;32m/usr/local/lib/python3.7/dist-packages/pandas/core/indexing.py\u001b[0m in \u001b[0;36m_getitem_axis\u001b[0;34m(self, key, axis)\u001b[0m\n\u001b[1;32m   1561\u001b[0m             \u001b[0mkey\u001b[0m \u001b[0;34m=\u001b[0m \u001b[0mitem_from_zerodim\u001b[0m\u001b[0;34m(\u001b[0m\u001b[0mkey\u001b[0m\u001b[0;34m)\u001b[0m\u001b[0;34m\u001b[0m\u001b[0;34m\u001b[0m\u001b[0m\n\u001b[1;32m   1562\u001b[0m             \u001b[0;32mif\u001b[0m \u001b[0;32mnot\u001b[0m \u001b[0mis_integer\u001b[0m\u001b[0;34m(\u001b[0m\u001b[0mkey\u001b[0m\u001b[0;34m)\u001b[0m\u001b[0;34m:\u001b[0m\u001b[0;34m\u001b[0m\u001b[0;34m\u001b[0m\u001b[0m\n\u001b[0;32m-> 1563\u001b[0;31m                 \u001b[0;32mraise\u001b[0m \u001b[0mTypeError\u001b[0m\u001b[0;34m(\u001b[0m\u001b[0;34m\"Cannot index by location index with a non-integer key\"\u001b[0m\u001b[0;34m)\u001b[0m\u001b[0;34m\u001b[0m\u001b[0;34m\u001b[0m\u001b[0m\n\u001b[0m\u001b[1;32m   1564\u001b[0m \u001b[0;34m\u001b[0m\u001b[0m\n\u001b[1;32m   1565\u001b[0m             \u001b[0;31m# validate the location\u001b[0m\u001b[0;34m\u001b[0m\u001b[0;34m\u001b[0m\u001b[0;34m\u001b[0m\u001b[0m\n",
            "\u001b[0;31mTypeError\u001b[0m: Cannot index by location index with a non-integer key"
          ]
        }
      ]
    },
    {
      "cell_type": "code",
      "source": [
        "dataframe_from_array.iloc[1,3] #second row and last column"
      ],
      "metadata": {
        "colab": {
          "base_uri": "https://localhost:8080/"
        },
        "id": "PI4cRSO526jo",
        "outputId": "2ba8878e-166b-44c1-8e62-94789e0d6f51"
      },
      "execution_count": null,
      "outputs": [
        {
          "output_type": "execute_result",
          "data": {
            "text/plain": [
              "7"
            ]
          },
          "metadata": {},
          "execution_count": 8
        }
      ]
    },
    {
      "cell_type": "code",
      "source": [
        "dataframe_from_array.iloc[::2,::2]"
      ],
      "metadata": {
        "colab": {
          "base_uri": "https://localhost:8080/",
          "height": 112
        },
        "id": "-BpY8Prl3GQX",
        "outputId": "173191ad-f956-4477-a440-8eba89bb75f3"
      },
      "execution_count": null,
      "outputs": [
        {
          "output_type": "execute_result",
          "data": {
            "text/plain": [
              "   w   y\n",
              "a  0   2\n",
              "c  8  10"
            ],
            "text/html": [
              "\n",
              "  <div id=\"df-89245783-263e-47f5-bdca-53df2d773e37\">\n",
              "    <div class=\"colab-df-container\">\n",
              "      <div>\n",
              "<style scoped>\n",
              "    .dataframe tbody tr th:only-of-type {\n",
              "        vertical-align: middle;\n",
              "    }\n",
              "\n",
              "    .dataframe tbody tr th {\n",
              "        vertical-align: top;\n",
              "    }\n",
              "\n",
              "    .dataframe thead th {\n",
              "        text-align: right;\n",
              "    }\n",
              "</style>\n",
              "<table border=\"1\" class=\"dataframe\">\n",
              "  <thead>\n",
              "    <tr style=\"text-align: right;\">\n",
              "      <th></th>\n",
              "      <th>w</th>\n",
              "      <th>y</th>\n",
              "    </tr>\n",
              "  </thead>\n",
              "  <tbody>\n",
              "    <tr>\n",
              "      <th>a</th>\n",
              "      <td>0</td>\n",
              "      <td>2</td>\n",
              "    </tr>\n",
              "    <tr>\n",
              "      <th>c</th>\n",
              "      <td>8</td>\n",
              "      <td>10</td>\n",
              "    </tr>\n",
              "  </tbody>\n",
              "</table>\n",
              "</div>\n",
              "      <button class=\"colab-df-convert\" onclick=\"convertToInteractive('df-89245783-263e-47f5-bdca-53df2d773e37')\"\n",
              "              title=\"Convert this dataframe to an interactive table.\"\n",
              "              style=\"display:none;\">\n",
              "        \n",
              "  <svg xmlns=\"http://www.w3.org/2000/svg\" height=\"24px\"viewBox=\"0 0 24 24\"\n",
              "       width=\"24px\">\n",
              "    <path d=\"M0 0h24v24H0V0z\" fill=\"none\"/>\n",
              "    <path d=\"M18.56 5.44l.94 2.06.94-2.06 2.06-.94-2.06-.94-.94-2.06-.94 2.06-2.06.94zm-11 1L8.5 8.5l.94-2.06 2.06-.94-2.06-.94L8.5 2.5l-.94 2.06-2.06.94zm10 10l.94 2.06.94-2.06 2.06-.94-2.06-.94-.94-2.06-.94 2.06-2.06.94z\"/><path d=\"M17.41 7.96l-1.37-1.37c-.4-.4-.92-.59-1.43-.59-.52 0-1.04.2-1.43.59L10.3 9.45l-7.72 7.72c-.78.78-.78 2.05 0 2.83L4 21.41c.39.39.9.59 1.41.59.51 0 1.02-.2 1.41-.59l7.78-7.78 2.81-2.81c.8-.78.8-2.07 0-2.86zM5.41 20L4 18.59l7.72-7.72 1.47 1.35L5.41 20z\"/>\n",
              "  </svg>\n",
              "      </button>\n",
              "      \n",
              "  <style>\n",
              "    .colab-df-container {\n",
              "      display:flex;\n",
              "      flex-wrap:wrap;\n",
              "      gap: 12px;\n",
              "    }\n",
              "\n",
              "    .colab-df-convert {\n",
              "      background-color: #E8F0FE;\n",
              "      border: none;\n",
              "      border-radius: 50%;\n",
              "      cursor: pointer;\n",
              "      display: none;\n",
              "      fill: #1967D2;\n",
              "      height: 32px;\n",
              "      padding: 0 0 0 0;\n",
              "      width: 32px;\n",
              "    }\n",
              "\n",
              "    .colab-df-convert:hover {\n",
              "      background-color: #E2EBFA;\n",
              "      box-shadow: 0px 1px 2px rgba(60, 64, 67, 0.3), 0px 1px 3px 1px rgba(60, 64, 67, 0.15);\n",
              "      fill: #174EA6;\n",
              "    }\n",
              "\n",
              "    [theme=dark] .colab-df-convert {\n",
              "      background-color: #3B4455;\n",
              "      fill: #D2E3FC;\n",
              "    }\n",
              "\n",
              "    [theme=dark] .colab-df-convert:hover {\n",
              "      background-color: #434B5C;\n",
              "      box-shadow: 0px 1px 3px 1px rgba(0, 0, 0, 0.15);\n",
              "      filter: drop-shadow(0px 1px 2px rgba(0, 0, 0, 0.3));\n",
              "      fill: #FFFFFF;\n",
              "    }\n",
              "  </style>\n",
              "\n",
              "      <script>\n",
              "        const buttonEl =\n",
              "          document.querySelector('#df-89245783-263e-47f5-bdca-53df2d773e37 button.colab-df-convert');\n",
              "        buttonEl.style.display =\n",
              "          google.colab.kernel.accessAllowed ? 'block' : 'none';\n",
              "\n",
              "        async function convertToInteractive(key) {\n",
              "          const element = document.querySelector('#df-89245783-263e-47f5-bdca-53df2d773e37');\n",
              "          const dataTable =\n",
              "            await google.colab.kernel.invokeFunction('convertToInteractive',\n",
              "                                                     [key], {});\n",
              "          if (!dataTable) return;\n",
              "\n",
              "          const docLinkHtml = 'Like what you see? Visit the ' +\n",
              "            '<a target=\"_blank\" href=https://colab.research.google.com/notebooks/data_table.ipynb>data table notebook</a>'\n",
              "            + ' to learn more about interactive tables.';\n",
              "          element.innerHTML = '';\n",
              "          dataTable['output_type'] = 'display_data';\n",
              "          await google.colab.output.renderOutput(dataTable, element);\n",
              "          const docLink = document.createElement('div');\n",
              "          docLink.innerHTML = docLinkHtml;\n",
              "          element.appendChild(docLink);\n",
              "        }\n",
              "      </script>\n",
              "    </div>\n",
              "  </div>\n",
              "  "
            ]
          },
          "metadata": {},
          "execution_count": 11
        }
      ]
    },
    {
      "cell_type": "code",
      "source": [
        "\n",
        "import numpy as np\n",
        "from matplotlib import pyplot as plt\n",
        "\n",
        "ys = 200 + np.random.randn(100)\n",
        "x = [x for x in range(len(ys))]\n",
        "\n",
        "plt.plot(x, ys, '-')\n",
        "plt.fill_between(x, ys, 195, where=(ys > 200), facecolor='g', alpha=0.6)\n",
        "\n",
        "plt.title(\"Sample Visualization\")\n",
        "plt.show()"
      ],
      "metadata": {
        "colab": {
          "base_uri": "https://localhost:8080/",
          "height": 281
        },
        "id": "fqzrScL-GrZU",
        "outputId": "b2e971b2-4fca-477b-e121-6a116815f38c"
      },
      "execution_count": null,
      "outputs": [
        {
          "output_type": "display_data",
          "data": {
            "text/plain": [
              "<Figure size 432x288 with 1 Axes>"
            ],
            "image/png": "[encoded data removed]"
          },
          "metadata": {
            "needs_background": "light"
          }
        }
      ]
    },
    {
      "cell_type": "code",
      "source": [
        "## Question 3 : Upload an image to your google drive, Use plt.imread to read image from the google drive and then print that image using plt.imshow\n",
        "\n",
        "\n",
        "## Answer 3 :\n",
        "\n",
        "## 1) make sure drive is loaded and then upload a test image onto your drive\n"
      ],
      "metadata": {
        "id": "mC8rNbeKxiaF"
      },
      "execution_count": 66,
      "outputs": []
    },
    {
      "cell_type": "code",
      "source": [
        "import matplotlib.pyplot as plt\n",
        "import matplotlib.image as mpimg\n",
        "\n",
        "# Replace 'your_image_url' with the publicly accessible URL of your image on Google Drive\n",
        "image_url = '/content/king.jpg'\n",
        "\n",
        "# Read the image from the URL\n",
        "img = mpimg.imread(image_url)\n",
        "\n",
        "# Display the image using plt.imshow\n",
        "plt.imshow(img)\n",
        "plt.axis('off')  # Turn off axis labels and ticks\n",
        "plt.show()\n",
        "\n"
      ],
      "metadata": {
        "id": "cKGnlvhX_xq-",
        "outputId": "bc4c6166-1131-415a-da4e-bbeb168f8df4",
        "colab": {
          "base_uri": "https://localhost:8080/",
          "height": 406
        }
      },
      "execution_count": 77,
      "outputs": [
        {
          "output_type": "display_data",
          "data": {
            "text/plain": [
              "<Figure size 640x480 with 1 Axes>"
            ],
            "image/png": "[encoded data removed]"
          },
          "metadata": {}
        }
      ]
    }
  ]
}